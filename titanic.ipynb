{
 "cells": [
  {
   "cell_type": "code",
   "execution_count": 39,
   "id": "initial_id",
   "metadata": {
    "collapsed": true,
    "ExecuteTime": {
     "end_time": "2023-11-01T03:18:34.049649900Z",
     "start_time": "2023-11-01T03:18:33.959919200Z"
    }
   },
   "outputs": [],
   "source": [
    "import pandas as pd\n",
    "import numpy as np\n",
    "import re\n",
    "import matplotlib.pyplot as plt\n",
    "import warnings\n",
    "import seaborn as sns\n",
    "from sklearn.linear_model import LinearRegression, LogisticRegression\n",
    "from sklearn.model_selection import KFold, train_test_split\n",
    "from sklearn.ensemble import RandomForestClassifier\n",
    " \n",
    "warnings.filterwarnings('ignore')"
   ]
  },
  {
   "cell_type": "code",
   "execution_count": 40,
   "outputs": [],
   "source": [
    "path = 'C:/Users/koo/Desktop/titanic/titanic/'"
   ],
   "metadata": {
    "collapsed": false,
    "ExecuteTime": {
     "end_time": "2023-11-01T03:18:34.049649900Z",
     "start_time": "2023-11-01T03:18:33.963987900Z"
    }
   },
   "id": "c75f8a67bacf8fc0"
  },
  {
   "cell_type": "code",
   "execution_count": 41,
   "outputs": [],
   "source": [
    "df_train, df_test= pd.read_csv(path+'train.csv'), pd.read_csv(path+'test.csv')"
   ],
   "metadata": {
    "collapsed": false,
    "ExecuteTime": {
     "end_time": "2023-11-01T03:18:34.054404900Z",
     "start_time": "2023-11-01T03:18:33.964491600Z"
    }
   },
   "id": "3fed7a775d3c6e15"
  },
  {
   "cell_type": "code",
   "execution_count": 42,
   "outputs": [
    {
     "data": {
      "text/plain": "   PassengerId  Survived  Pclass  \\\n0            1         0       3   \n1            2         1       1   \n2            3         1       3   \n3            4         1       1   \n4            5         0       3   \n\n                                                Name     Sex   Age  SibSp  \\\n0                            Braund, Mr. Owen Harris    male  22.0      1   \n1  Cumings, Mrs. John Bradley (Florence Briggs Th...  female  38.0      1   \n2                             Heikkinen, Miss. Laina  female  26.0      0   \n3       Futrelle, Mrs. Jacques Heath (Lily May Peel)  female  35.0      1   \n4                           Allen, Mr. William Henry    male  35.0      0   \n\n   Parch            Ticket     Fare Cabin Embarked  \n0      0         A/5 21171   7.2500   NaN        S  \n1      0          PC 17599  71.2833   C85        C  \n2      0  STON/O2. 3101282   7.9250   NaN        S  \n3      0            113803  53.1000  C123        S  \n4      0            373450   8.0500   NaN        S  ",
      "text/html": "<div>\n<style scoped>\n    .dataframe tbody tr th:only-of-type {\n        vertical-align: middle;\n    }\n\n    .dataframe tbody tr th {\n        vertical-align: top;\n    }\n\n    .dataframe thead th {\n        text-align: right;\n    }\n</style>\n<table border=\"1\" class=\"dataframe\">\n  <thead>\n    <tr style=\"text-align: right;\">\n      <th></th>\n      <th>PassengerId</th>\n      <th>Survived</th>\n      <th>Pclass</th>\n      <th>Name</th>\n      <th>Sex</th>\n      <th>Age</th>\n      <th>SibSp</th>\n      <th>Parch</th>\n      <th>Ticket</th>\n      <th>Fare</th>\n      <th>Cabin</th>\n      <th>Embarked</th>\n    </tr>\n  </thead>\n  <tbody>\n    <tr>\n      <th>0</th>\n      <td>1</td>\n      <td>0</td>\n      <td>3</td>\n      <td>Braund, Mr. Owen Harris</td>\n      <td>male</td>\n      <td>22.0</td>\n      <td>1</td>\n      <td>0</td>\n      <td>A/5 21171</td>\n      <td>7.2500</td>\n      <td>NaN</td>\n      <td>S</td>\n    </tr>\n    <tr>\n      <th>1</th>\n      <td>2</td>\n      <td>1</td>\n      <td>1</td>\n      <td>Cumings, Mrs. John Bradley (Florence Briggs Th...</td>\n      <td>female</td>\n      <td>38.0</td>\n      <td>1</td>\n      <td>0</td>\n      <td>PC 17599</td>\n      <td>71.2833</td>\n      <td>C85</td>\n      <td>C</td>\n    </tr>\n    <tr>\n      <th>2</th>\n      <td>3</td>\n      <td>1</td>\n      <td>3</td>\n      <td>Heikkinen, Miss. Laina</td>\n      <td>female</td>\n      <td>26.0</td>\n      <td>0</td>\n      <td>0</td>\n      <td>STON/O2. 3101282</td>\n      <td>7.9250</td>\n      <td>NaN</td>\n      <td>S</td>\n    </tr>\n    <tr>\n      <th>3</th>\n      <td>4</td>\n      <td>1</td>\n      <td>1</td>\n      <td>Futrelle, Mrs. Jacques Heath (Lily May Peel)</td>\n      <td>female</td>\n      <td>35.0</td>\n      <td>1</td>\n      <td>0</td>\n      <td>113803</td>\n      <td>53.1000</td>\n      <td>C123</td>\n      <td>S</td>\n    </tr>\n    <tr>\n      <th>4</th>\n      <td>5</td>\n      <td>0</td>\n      <td>3</td>\n      <td>Allen, Mr. William Henry</td>\n      <td>male</td>\n      <td>35.0</td>\n      <td>0</td>\n      <td>0</td>\n      <td>373450</td>\n      <td>8.0500</td>\n      <td>NaN</td>\n      <td>S</td>\n    </tr>\n  </tbody>\n</table>\n</div>"
     },
     "execution_count": 42,
     "metadata": {},
     "output_type": "execute_result"
    }
   ],
   "source": [
    "df_train.head()"
   ],
   "metadata": {
    "collapsed": false,
    "ExecuteTime": {
     "end_time": "2023-11-01T03:18:34.122615100Z",
     "start_time": "2023-11-01T03:18:33.971079400Z"
    }
   },
   "id": "1bc2f0bde80d2667"
  },
  {
   "cell_type": "code",
   "execution_count": 43,
   "outputs": [
    {
     "data": {
      "text/plain": "     PassengerId  Survived  Pclass                                      Name  \\\n886          887         0       2                     Montvila, Rev. Juozas   \n887          888         1       1              Graham, Miss. Margaret Edith   \n888          889         0       3  Johnston, Miss. Catherine Helen \"Carrie\"   \n889          890         1       1                     Behr, Mr. Karl Howell   \n890          891         0       3                       Dooley, Mr. Patrick   \n\n        Sex   Age  SibSp  Parch      Ticket   Fare Cabin Embarked  \n886    male  27.0      0      0      211536  13.00   NaN        S  \n887  female  19.0      0      0      112053  30.00   B42        S  \n888  female   NaN      1      2  W./C. 6607  23.45   NaN        S  \n889    male  26.0      0      0      111369  30.00  C148        C  \n890    male  32.0      0      0      370376   7.75   NaN        Q  ",
      "text/html": "<div>\n<style scoped>\n    .dataframe tbody tr th:only-of-type {\n        vertical-align: middle;\n    }\n\n    .dataframe tbody tr th {\n        vertical-align: top;\n    }\n\n    .dataframe thead th {\n        text-align: right;\n    }\n</style>\n<table border=\"1\" class=\"dataframe\">\n  <thead>\n    <tr style=\"text-align: right;\">\n      <th></th>\n      <th>PassengerId</th>\n      <th>Survived</th>\n      <th>Pclass</th>\n      <th>Name</th>\n      <th>Sex</th>\n      <th>Age</th>\n      <th>SibSp</th>\n      <th>Parch</th>\n      <th>Ticket</th>\n      <th>Fare</th>\n      <th>Cabin</th>\n      <th>Embarked</th>\n    </tr>\n  </thead>\n  <tbody>\n    <tr>\n      <th>886</th>\n      <td>887</td>\n      <td>0</td>\n      <td>2</td>\n      <td>Montvila, Rev. Juozas</td>\n      <td>male</td>\n      <td>27.0</td>\n      <td>0</td>\n      <td>0</td>\n      <td>211536</td>\n      <td>13.00</td>\n      <td>NaN</td>\n      <td>S</td>\n    </tr>\n    <tr>\n      <th>887</th>\n      <td>888</td>\n      <td>1</td>\n      <td>1</td>\n      <td>Graham, Miss. Margaret Edith</td>\n      <td>female</td>\n      <td>19.0</td>\n      <td>0</td>\n      <td>0</td>\n      <td>112053</td>\n      <td>30.00</td>\n      <td>B42</td>\n      <td>S</td>\n    </tr>\n    <tr>\n      <th>888</th>\n      <td>889</td>\n      <td>0</td>\n      <td>3</td>\n      <td>Johnston, Miss. Catherine Helen \"Carrie\"</td>\n      <td>female</td>\n      <td>NaN</td>\n      <td>1</td>\n      <td>2</td>\n      <td>W./C. 6607</td>\n      <td>23.45</td>\n      <td>NaN</td>\n      <td>S</td>\n    </tr>\n    <tr>\n      <th>889</th>\n      <td>890</td>\n      <td>1</td>\n      <td>1</td>\n      <td>Behr, Mr. Karl Howell</td>\n      <td>male</td>\n      <td>26.0</td>\n      <td>0</td>\n      <td>0</td>\n      <td>111369</td>\n      <td>30.00</td>\n      <td>C148</td>\n      <td>C</td>\n    </tr>\n    <tr>\n      <th>890</th>\n      <td>891</td>\n      <td>0</td>\n      <td>3</td>\n      <td>Dooley, Mr. Patrick</td>\n      <td>male</td>\n      <td>32.0</td>\n      <td>0</td>\n      <td>0</td>\n      <td>370376</td>\n      <td>7.75</td>\n      <td>NaN</td>\n      <td>Q</td>\n    </tr>\n  </tbody>\n</table>\n</div>"
     },
     "execution_count": 43,
     "metadata": {},
     "output_type": "execute_result"
    }
   ],
   "source": [
    "df_train.tail()"
   ],
   "metadata": {
    "collapsed": false,
    "ExecuteTime": {
     "end_time": "2023-11-01T03:18:34.122615100Z",
     "start_time": "2023-11-01T03:18:33.977191800Z"
    }
   },
   "id": "f3d8d38b38bdc37b"
  },
  {
   "cell_type": "code",
   "execution_count": 44,
   "outputs": [
    {
     "name": "stdout",
     "output_type": "stream",
     "text": [
      "<class 'pandas.core.frame.DataFrame'>\n",
      "RangeIndex: 891 entries, 0 to 890\n",
      "Data columns (total 12 columns):\n",
      " #   Column       Non-Null Count  Dtype  \n",
      "---  ------       --------------  -----  \n",
      " 0   PassengerId  891 non-null    int64  \n",
      " 1   Survived     891 non-null    int64  \n",
      " 2   Pclass       891 non-null    int64  \n",
      " 3   Name         891 non-null    object \n",
      " 4   Sex          891 non-null    object \n",
      " 5   Age          714 non-null    float64\n",
      " 6   SibSp        891 non-null    int64  \n",
      " 7   Parch        891 non-null    int64  \n",
      " 8   Ticket       891 non-null    object \n",
      " 9   Fare         891 non-null    float64\n",
      " 10  Cabin        204 non-null    object \n",
      " 11  Embarked     889 non-null    object \n",
      "dtypes: float64(2), int64(5), object(5)\n",
      "memory usage: 83.7+ KB\n"
     ]
    }
   ],
   "source": [
    "df_train.info()"
   ],
   "metadata": {
    "collapsed": false,
    "ExecuteTime": {
     "end_time": "2023-11-01T03:18:34.122615100Z",
     "start_time": "2023-11-01T03:18:33.984280600Z"
    }
   },
   "id": "4303ef18d60244aa"
  },
  {
   "cell_type": "code",
   "execution_count": 45,
   "outputs": [
    {
     "data": {
      "text/plain": "       PassengerId    Survived      Pclass         Age       SibSp  \\\ncount   891.000000  891.000000  891.000000  714.000000  891.000000   \nmean    446.000000    0.383838    2.308642   29.699118    0.523008   \nstd     257.353842    0.486592    0.836071   14.526497    1.102743   \nmin       1.000000    0.000000    1.000000    0.420000    0.000000   \n25%     223.500000    0.000000    2.000000   20.125000    0.000000   \n50%     446.000000    0.000000    3.000000   28.000000    0.000000   \n75%     668.500000    1.000000    3.000000   38.000000    1.000000   \nmax     891.000000    1.000000    3.000000   80.000000    8.000000   \n\n            Parch        Fare  \ncount  891.000000  891.000000  \nmean     0.381594   32.204208  \nstd      0.806057   49.693429  \nmin      0.000000    0.000000  \n25%      0.000000    7.910400  \n50%      0.000000   14.454200  \n75%      0.000000   31.000000  \nmax      6.000000  512.329200  ",
      "text/html": "<div>\n<style scoped>\n    .dataframe tbody tr th:only-of-type {\n        vertical-align: middle;\n    }\n\n    .dataframe tbody tr th {\n        vertical-align: top;\n    }\n\n    .dataframe thead th {\n        text-align: right;\n    }\n</style>\n<table border=\"1\" class=\"dataframe\">\n  <thead>\n    <tr style=\"text-align: right;\">\n      <th></th>\n      <th>PassengerId</th>\n      <th>Survived</th>\n      <th>Pclass</th>\n      <th>Age</th>\n      <th>SibSp</th>\n      <th>Parch</th>\n      <th>Fare</th>\n    </tr>\n  </thead>\n  <tbody>\n    <tr>\n      <th>count</th>\n      <td>891.000000</td>\n      <td>891.000000</td>\n      <td>891.000000</td>\n      <td>714.000000</td>\n      <td>891.000000</td>\n      <td>891.000000</td>\n      <td>891.000000</td>\n    </tr>\n    <tr>\n      <th>mean</th>\n      <td>446.000000</td>\n      <td>0.383838</td>\n      <td>2.308642</td>\n      <td>29.699118</td>\n      <td>0.523008</td>\n      <td>0.381594</td>\n      <td>32.204208</td>\n    </tr>\n    <tr>\n      <th>std</th>\n      <td>257.353842</td>\n      <td>0.486592</td>\n      <td>0.836071</td>\n      <td>14.526497</td>\n      <td>1.102743</td>\n      <td>0.806057</td>\n      <td>49.693429</td>\n    </tr>\n    <tr>\n      <th>min</th>\n      <td>1.000000</td>\n      <td>0.000000</td>\n      <td>1.000000</td>\n      <td>0.420000</td>\n      <td>0.000000</td>\n      <td>0.000000</td>\n      <td>0.000000</td>\n    </tr>\n    <tr>\n      <th>25%</th>\n      <td>223.500000</td>\n      <td>0.000000</td>\n      <td>2.000000</td>\n      <td>20.125000</td>\n      <td>0.000000</td>\n      <td>0.000000</td>\n      <td>7.910400</td>\n    </tr>\n    <tr>\n      <th>50%</th>\n      <td>446.000000</td>\n      <td>0.000000</td>\n      <td>3.000000</td>\n      <td>28.000000</td>\n      <td>0.000000</td>\n      <td>0.000000</td>\n      <td>14.454200</td>\n    </tr>\n    <tr>\n      <th>75%</th>\n      <td>668.500000</td>\n      <td>1.000000</td>\n      <td>3.000000</td>\n      <td>38.000000</td>\n      <td>1.000000</td>\n      <td>0.000000</td>\n      <td>31.000000</td>\n    </tr>\n    <tr>\n      <th>max</th>\n      <td>891.000000</td>\n      <td>1.000000</td>\n      <td>3.000000</td>\n      <td>80.000000</td>\n      <td>8.000000</td>\n      <td>6.000000</td>\n      <td>512.329200</td>\n    </tr>\n  </tbody>\n</table>\n</div>"
     },
     "execution_count": 45,
     "metadata": {},
     "output_type": "execute_result"
    }
   ],
   "source": [
    "df_train.describe()"
   ],
   "metadata": {
    "collapsed": false,
    "ExecuteTime": {
     "end_time": "2023-11-01T03:18:34.122615100Z",
     "start_time": "2023-11-01T03:18:33.992072200Z"
    }
   },
   "id": "e75d1fe829709807"
  },
  {
   "cell_type": "code",
   "execution_count": 46,
   "outputs": [
    {
     "data": {
      "text/plain": "                           Name   Sex  Ticket    Cabin Embarked\ncount                       891   891     891      204      889\nunique                      891     2     681      147        3\ntop     Braund, Mr. Owen Harris  male  347082  B96 B98        S\nfreq                          1   577       7        4      644",
      "text/html": "<div>\n<style scoped>\n    .dataframe tbody tr th:only-of-type {\n        vertical-align: middle;\n    }\n\n    .dataframe tbody tr th {\n        vertical-align: top;\n    }\n\n    .dataframe thead th {\n        text-align: right;\n    }\n</style>\n<table border=\"1\" class=\"dataframe\">\n  <thead>\n    <tr style=\"text-align: right;\">\n      <th></th>\n      <th>Name</th>\n      <th>Sex</th>\n      <th>Ticket</th>\n      <th>Cabin</th>\n      <th>Embarked</th>\n    </tr>\n  </thead>\n  <tbody>\n    <tr>\n      <th>count</th>\n      <td>891</td>\n      <td>891</td>\n      <td>891</td>\n      <td>204</td>\n      <td>889</td>\n    </tr>\n    <tr>\n      <th>unique</th>\n      <td>891</td>\n      <td>2</td>\n      <td>681</td>\n      <td>147</td>\n      <td>3</td>\n    </tr>\n    <tr>\n      <th>top</th>\n      <td>Braund, Mr. Owen Harris</td>\n      <td>male</td>\n      <td>347082</td>\n      <td>B96 B98</td>\n      <td>S</td>\n    </tr>\n    <tr>\n      <th>freq</th>\n      <td>1</td>\n      <td>577</td>\n      <td>7</td>\n      <td>4</td>\n      <td>644</td>\n    </tr>\n  </tbody>\n</table>\n</div>"
     },
     "execution_count": 46,
     "metadata": {},
     "output_type": "execute_result"
    }
   ],
   "source": [
    "df_train[['Name','Sex','Ticket','Cabin','Embarked']].describe()"
   ],
   "metadata": {
    "collapsed": false,
    "ExecuteTime": {
     "end_time": "2023-11-01T03:18:34.122615100Z",
     "start_time": "2023-11-01T03:18:34.001989100Z"
    }
   },
   "id": "96a6a85bdf913b71"
  },
  {
   "cell_type": "code",
   "execution_count": 47,
   "outputs": [
    {
     "data": {
      "text/plain": "3    372\n2     97\n1     80\nName: Pclass, dtype: int64"
     },
     "execution_count": 47,
     "metadata": {},
     "output_type": "execute_result"
    }
   ],
   "source": [
    "Pclass_Survived_0 = df_train.Pclass[df_train['Survived'] == 0].value_counts()\n",
    "Pclass_Survived_1 = df_train.Pclass[df_train['Survived'] == 1].value_counts()\n",
    "Pclass_Survived = pd.DataFrame({ 0: Pclass_Survived_0, 1: Pclass_Survived_1})\n",
    "Pclass_Survived_0"
   ],
   "metadata": {
    "collapsed": false,
    "ExecuteTime": {
     "end_time": "2023-11-01T03:18:34.122615100Z",
     "start_time": "2023-11-01T03:18:34.010794Z"
    }
   },
   "id": "16afce1b38e164de"
  },
  {
   "cell_type": "code",
   "execution_count": 48,
   "outputs": [
    {
     "data": {
      "text/plain": "array(['Mr', 'Mrs', 'Miss', 'Master', 'Don', 'Rev', 'Dr', 'Mme', 'Ms',\n       'Major', 'Lady', 'Sir', 'Mlle', 'Col', 'Capt', 'Countess',\n       'Jonkheer'], dtype=object)"
     },
     "execution_count": 48,
     "metadata": {},
     "output_type": "execute_result"
    }
   ],
   "source": [
    "df_train['Appellation'] = df_train.Name.apply(lambda x: re.search('\\w+\\.', x).group()).str.replace('.', '')\n",
    "df_train['Appellation_'] = df_train['Appellation']\n",
    "df_train.Appellation.unique()"
   ],
   "metadata": {
    "collapsed": false,
    "ExecuteTime": {
     "end_time": "2023-11-01T03:18:34.122615100Z",
     "start_time": "2023-11-01T03:18:34.016213400Z"
    }
   },
   "id": "682604931c4f226d"
  },
  {
   "cell_type": "code",
   "execution_count": 49,
   "outputs": [
    {
     "data": {
      "text/plain": "Appellation  Capt  Col  Countess  Don  Dr  Jonkheer  Lady  Major  Master  \\\nSex                                                                        \nfemale          0    0         1    0   1         0     1      0       0   \nmale            1    2         0    1   6         1     0      2      40   \n\nAppellation  Miss  Mlle  Mme   Mr  Mrs  Ms  Rev  Sir  \nSex                                                   \nfemale        182     2    1    0  125   1    0    0  \nmale            0     0    0  517    0   0    6    1  ",
      "text/html": "<div>\n<style scoped>\n    .dataframe tbody tr th:only-of-type {\n        vertical-align: middle;\n    }\n\n    .dataframe tbody tr th {\n        vertical-align: top;\n    }\n\n    .dataframe thead th {\n        text-align: right;\n    }\n</style>\n<table border=\"1\" class=\"dataframe\">\n  <thead>\n    <tr style=\"text-align: right;\">\n      <th>Appellation</th>\n      <th>Capt</th>\n      <th>Col</th>\n      <th>Countess</th>\n      <th>Don</th>\n      <th>Dr</th>\n      <th>Jonkheer</th>\n      <th>Lady</th>\n      <th>Major</th>\n      <th>Master</th>\n      <th>Miss</th>\n      <th>Mlle</th>\n      <th>Mme</th>\n      <th>Mr</th>\n      <th>Mrs</th>\n      <th>Ms</th>\n      <th>Rev</th>\n      <th>Sir</th>\n    </tr>\n    <tr>\n      <th>Sex</th>\n      <th></th>\n      <th></th>\n      <th></th>\n      <th></th>\n      <th></th>\n      <th></th>\n      <th></th>\n      <th></th>\n      <th></th>\n      <th></th>\n      <th></th>\n      <th></th>\n      <th></th>\n      <th></th>\n      <th></th>\n      <th></th>\n      <th></th>\n    </tr>\n  </thead>\n  <tbody>\n    <tr>\n      <th>female</th>\n      <td>0</td>\n      <td>0</td>\n      <td>1</td>\n      <td>0</td>\n      <td>1</td>\n      <td>0</td>\n      <td>1</td>\n      <td>0</td>\n      <td>0</td>\n      <td>182</td>\n      <td>2</td>\n      <td>1</td>\n      <td>0</td>\n      <td>125</td>\n      <td>1</td>\n      <td>0</td>\n      <td>0</td>\n    </tr>\n    <tr>\n      <th>male</th>\n      <td>1</td>\n      <td>2</td>\n      <td>0</td>\n      <td>1</td>\n      <td>6</td>\n      <td>1</td>\n      <td>0</td>\n      <td>2</td>\n      <td>40</td>\n      <td>0</td>\n      <td>0</td>\n      <td>0</td>\n      <td>517</td>\n      <td>0</td>\n      <td>0</td>\n      <td>6</td>\n      <td>1</td>\n    </tr>\n  </tbody>\n</table>\n</div>"
     },
     "execution_count": 49,
     "metadata": {},
     "output_type": "execute_result"
    }
   ],
   "source": [
    "Appellation_Sex = pd.crosstab(df_train.Appellation, df_train.Sex)\n",
    "Appellation_Sex.T"
   ],
   "metadata": {
    "collapsed": false,
    "ExecuteTime": {
     "end_time": "2023-11-01T03:18:34.122615100Z",
     "start_time": "2023-11-01T03:18:34.021549Z"
    }
   },
   "id": "95e006c97f54cfc0"
  },
  {
   "cell_type": "code",
   "execution_count": 50,
   "outputs": [
    {
     "data": {
      "text/plain": "array(['Mr', 'Mrs', 'Miss', 'Master', 'Rare'], dtype=object)"
     },
     "execution_count": 50,
     "metadata": {},
     "output_type": "execute_result"
    }
   ],
   "source": [
    "df_train['Appellation'] = df_train['Appellation'].replace(['Capt','Col','Countess','Dr','Jonkheer','Major','Rev'], 'Rare')\n",
    "df_train['Appellation'] = df_train['Appellation'].replace(['Mlle','Ms'], 'Miss')\n",
    "df_train['Appellation'] = df_train['Appellation'].replace('Mme', 'Mrs')\n",
    "df_train['Appellation'] = df_train['Appellation'].replace(['Don','Lady','Sir'], 'Master')\n",
    "df_train.Appellation.unique()"
   ],
   "metadata": {
    "collapsed": false,
    "ExecuteTime": {
     "end_time": "2023-11-01T03:18:34.122615100Z",
     "start_time": "2023-11-01T03:18:34.032888900Z"
    }
   },
   "id": "a5c1996725b84e48"
  },
  {
   "cell_type": "code",
   "execution_count": 51,
   "outputs": [
    {
     "data": {
      "text/plain": "Survived    0    1\nSex               \nfemale     81  233\nmale      468  109",
      "text/html": "<div>\n<style scoped>\n    .dataframe tbody tr th:only-of-type {\n        vertical-align: middle;\n    }\n\n    .dataframe tbody tr th {\n        vertical-align: top;\n    }\n\n    .dataframe thead th {\n        text-align: right;\n    }\n</style>\n<table border=\"1\" class=\"dataframe\">\n  <thead>\n    <tr style=\"text-align: right;\">\n      <th>Survived</th>\n      <th>0</th>\n      <th>1</th>\n    </tr>\n    <tr>\n      <th>Sex</th>\n      <th></th>\n      <th></th>\n    </tr>\n  </thead>\n  <tbody>\n    <tr>\n      <th>female</th>\n      <td>81</td>\n      <td>233</td>\n    </tr>\n    <tr>\n      <th>male</th>\n      <td>468</td>\n      <td>109</td>\n    </tr>\n  </tbody>\n</table>\n</div>"
     },
     "execution_count": 51,
     "metadata": {},
     "output_type": "execute_result"
    }
   ],
   "source": [
    "Sex_Survived = pd.crosstab(df_train['Sex'], df_train['Survived'])\n",
    "Sex_Survived"
   ],
   "metadata": {
    "collapsed": false,
    "ExecuteTime": {
     "end_time": "2023-11-01T03:18:34.122615100Z",
     "start_time": "2023-11-01T03:18:34.041365500Z"
    }
   },
   "id": "64c51b52f5f361"
  },
  {
   "cell_type": "code",
   "execution_count": 52,
   "outputs": [
    {
     "data": {
      "text/plain": "Survived    0    1\nSibSp             \n0         398  210\n1          97  112\n2          15   13\n3          12    4\n4          15    3\n5           5    0\n8           7    0",
      "text/html": "<div>\n<style scoped>\n    .dataframe tbody tr th:only-of-type {\n        vertical-align: middle;\n    }\n\n    .dataframe tbody tr th {\n        vertical-align: top;\n    }\n\n    .dataframe thead th {\n        text-align: right;\n    }\n</style>\n<table border=\"1\" class=\"dataframe\">\n  <thead>\n    <tr style=\"text-align: right;\">\n      <th>Survived</th>\n      <th>0</th>\n      <th>1</th>\n    </tr>\n    <tr>\n      <th>SibSp</th>\n      <th></th>\n      <th></th>\n    </tr>\n  </thead>\n  <tbody>\n    <tr>\n      <th>0</th>\n      <td>398</td>\n      <td>210</td>\n    </tr>\n    <tr>\n      <th>1</th>\n      <td>97</td>\n      <td>112</td>\n    </tr>\n    <tr>\n      <th>2</th>\n      <td>15</td>\n      <td>13</td>\n    </tr>\n    <tr>\n      <th>3</th>\n      <td>12</td>\n      <td>4</td>\n    </tr>\n    <tr>\n      <th>4</th>\n      <td>15</td>\n      <td>3</td>\n    </tr>\n    <tr>\n      <th>5</th>\n      <td>5</td>\n      <td>0</td>\n    </tr>\n    <tr>\n      <th>8</th>\n      <td>7</td>\n      <td>0</td>\n    </tr>\n  </tbody>\n</table>\n</div>"
     },
     "execution_count": 52,
     "metadata": {},
     "output_type": "execute_result"
    }
   ],
   "source": [
    "SibSp_Survived = pd.crosstab(df_train['SibSp'], df_train['Survived'])\n",
    "SibSp_Survived"
   ],
   "metadata": {
    "collapsed": false,
    "ExecuteTime": {
     "end_time": "2023-11-01T03:18:34.122615100Z",
     "start_time": "2023-11-01T03:18:34.045642700Z"
    }
   },
   "id": "f793bc7d2db13419"
  },
  {
   "cell_type": "code",
   "execution_count": 53,
   "outputs": [
    {
     "data": {
      "text/plain": "0      0\n1      0\n2      0\n3      1\n4      0\n      ..\n886    0\n887    0\n888    1\n889    0\n890    0\nName: GroupTicket, Length: 891, dtype: int32"
     },
     "execution_count": 53,
     "metadata": {},
     "output_type": "execute_result"
    }
   ],
   "source": [
    "Ticket_Count = df_train.groupby('Ticket', as_index = False)['PassengerId'].count()\n",
    "Ticket_Count_0 = Ticket_Count[Ticket_Count.PassengerId == 1]['Ticket']\n",
    "df_train['GroupTicket'] = np.where(df_train.Ticket.isin(Ticket_Count_0), 0, 1)\n",
    "df_train['GroupTicket'] "
   ],
   "metadata": {
    "collapsed": false,
    "ExecuteTime": {
     "end_time": "2023-11-01T03:18:34.156258200Z",
     "start_time": "2023-11-01T03:18:34.054908600Z"
    }
   },
   "id": "37c1f239261b3784"
  },
  {
   "cell_type": "code",
   "execution_count": 54,
   "outputs": [
    {
     "data": {
      "text/plain": "Survived      0    1\nGroupFare           \n[0, 60)     509  260\n[60, 120)    30   50\n[120, 180)    4   18\n[180, 240)    3    6\n[240, 300)    3    5\n[480, 540)    0    3",
      "text/html": "<div>\n<style scoped>\n    .dataframe tbody tr th:only-of-type {\n        vertical-align: middle;\n    }\n\n    .dataframe tbody tr th {\n        vertical-align: top;\n    }\n\n    .dataframe thead th {\n        text-align: right;\n    }\n</style>\n<table border=\"1\" class=\"dataframe\">\n  <thead>\n    <tr style=\"text-align: right;\">\n      <th>Survived</th>\n      <th>0</th>\n      <th>1</th>\n    </tr>\n    <tr>\n      <th>GroupFare</th>\n      <th></th>\n      <th></th>\n    </tr>\n  </thead>\n  <tbody>\n    <tr>\n      <th>[0, 60)</th>\n      <td>509</td>\n      <td>260</td>\n    </tr>\n    <tr>\n      <th>[60, 120)</th>\n      <td>30</td>\n      <td>50</td>\n    </tr>\n    <tr>\n      <th>[120, 180)</th>\n      <td>4</td>\n      <td>18</td>\n    </tr>\n    <tr>\n      <th>[180, 240)</th>\n      <td>3</td>\n      <td>6</td>\n    </tr>\n    <tr>\n      <th>[240, 300)</th>\n      <td>3</td>\n      <td>5</td>\n    </tr>\n    <tr>\n      <th>[480, 540)</th>\n      <td>0</td>\n      <td>3</td>\n    </tr>\n  </tbody>\n</table>\n</div>"
     },
     "execution_count": 54,
     "metadata": {},
     "output_type": "execute_result"
    }
   ],
   "source": [
    "bins = [0, 60, 120, 180, 240, 300, 360, 420, 480, 540, 600]\n",
    "df_train['GroupFare'] = pd.cut(df_train.Fare, bins, right = False)\n",
    "GroupFare_Survived = pd.crosstab(df_train['GroupFare'], df_train['Survived'])\n",
    "GroupFare_Survived"
   ],
   "metadata": {
    "collapsed": false,
    "ExecuteTime": {
     "end_time": "2023-11-01T03:18:34.161034900Z",
     "start_time": "2023-11-01T03:18:34.061585300Z"
    }
   },
   "id": "3d75a7e6a2361aed"
  },
  {
   "cell_type": "code",
   "execution_count": 55,
   "outputs": [],
   "source": [
    "train = df_train.copy()"
   ],
   "metadata": {
    "collapsed": false,
    "ExecuteTime": {
     "end_time": "2023-11-01T03:18:34.161034900Z",
     "start_time": "2023-11-01T03:18:34.074529Z"
    }
   },
   "id": "661bc2b6aa8c9b28"
  },
  {
   "cell_type": "code",
   "execution_count": 56,
   "outputs": [],
   "source": [
    "train['Embarked'] = train['Embarked'].fillna(train['Embarked'].mode()[0])"
   ],
   "metadata": {
    "collapsed": false,
    "ExecuteTime": {
     "end_time": "2023-11-01T03:18:34.161573800Z",
     "start_time": "2023-11-01T03:18:34.075966100Z"
    }
   },
   "id": "9fb1a9d9fd2f266c"
  },
  {
   "cell_type": "code",
   "execution_count": 57,
   "outputs": [],
   "source": [
    "train['Cabin'] = train['Cabin'].fillna('NO')"
   ],
   "metadata": {
    "collapsed": false,
    "ExecuteTime": {
     "end_time": "2023-11-01T03:18:34.161573800Z",
     "start_time": "2023-11-01T03:18:34.079470600Z"
    }
   },
   "id": "2d9a50063ea0aaf3"
  },
  {
   "cell_type": "code",
   "execution_count": 58,
   "outputs": [
    {
     "data": {
      "text/plain": "count    890.000000\nmean      29.370978\nstd       13.260356\nmin        0.420000\n25%       21.000000\n50%       30.000000\n75%       35.000000\nmax       80.000000\nName: Age, dtype: float64"
     },
     "execution_count": 58,
     "metadata": {},
     "output_type": "execute_result"
    }
   ],
   "source": [
    "Age_Appellation_median = train.groupby('Appellation_')['Age'].median()\n",
    "train.set_index('Appellation', inplace = True)\n",
    "train.Age.fillna(Age_Appellation_median, inplace = True)\n",
    "train.reset_index(inplace = True)\n",
    "train.Age.describe()"
   ],
   "metadata": {
    "collapsed": false,
    "ExecuteTime": {
     "end_time": "2023-11-01T03:18:34.161573800Z",
     "start_time": "2023-11-01T03:18:34.082820500Z"
    }
   },
   "id": "b7440bb70f31b654"
  },
  {
   "cell_type": "code",
   "execution_count": 59,
   "outputs": [
    {
     "data": {
      "text/plain": "Survived    0    1\nEmbarked          \nC          75   93\nQ          47   30\nS         427  219",
      "text/html": "<div>\n<style scoped>\n    .dataframe tbody tr th:only-of-type {\n        vertical-align: middle;\n    }\n\n    .dataframe tbody tr th {\n        vertical-align: top;\n    }\n\n    .dataframe thead th {\n        text-align: right;\n    }\n</style>\n<table border=\"1\" class=\"dataframe\">\n  <thead>\n    <tr style=\"text-align: right;\">\n      <th>Survived</th>\n      <th>0</th>\n      <th>1</th>\n    </tr>\n    <tr>\n      <th>Embarked</th>\n      <th></th>\n      <th></th>\n    </tr>\n  </thead>\n  <tbody>\n    <tr>\n      <th>C</th>\n      <td>75</td>\n      <td>93</td>\n    </tr>\n    <tr>\n      <th>Q</th>\n      <td>47</td>\n      <td>30</td>\n    </tr>\n    <tr>\n      <th>S</th>\n      <td>427</td>\n      <td>219</td>\n    </tr>\n  </tbody>\n</table>\n</div>"
     },
     "execution_count": 59,
     "metadata": {},
     "output_type": "execute_result"
    }
   ],
   "source": [
    "Embarked_Survived = pd.crosstab(train['Embarked'], train['Survived'])\n",
    "Embarked_Survived"
   ],
   "metadata": {
    "collapsed": false,
    "ExecuteTime": {
     "end_time": "2023-11-01T03:18:34.161573800Z",
     "start_time": "2023-11-01T03:18:34.091117100Z"
    }
   },
   "id": "c78c2b3499ca8365"
  },
  {
   "cell_type": "code",
   "execution_count": 60,
   "outputs": [
    {
     "data": {
      "text/plain": "Survived      0    1\nGroupCabin          \n0           481  206\n1            68  136",
      "text/html": "<div>\n<style scoped>\n    .dataframe tbody tr th:only-of-type {\n        vertical-align: middle;\n    }\n\n    .dataframe tbody tr th {\n        vertical-align: top;\n    }\n\n    .dataframe thead th {\n        text-align: right;\n    }\n</style>\n<table border=\"1\" class=\"dataframe\">\n  <thead>\n    <tr style=\"text-align: right;\">\n      <th>Survived</th>\n      <th>0</th>\n      <th>1</th>\n    </tr>\n    <tr>\n      <th>GroupCabin</th>\n      <th></th>\n      <th></th>\n    </tr>\n  </thead>\n  <tbody>\n    <tr>\n      <th>0</th>\n      <td>481</td>\n      <td>206</td>\n    </tr>\n    <tr>\n      <th>1</th>\n      <td>68</td>\n      <td>136</td>\n    </tr>\n  </tbody>\n</table>\n</div>"
     },
     "execution_count": 60,
     "metadata": {},
     "output_type": "execute_result"
    }
   ],
   "source": [
    "train['GroupCabin'] = np.where(train.Cabin == 'NO', 0, 1)\n",
    "GroupCabin_Survived = pd.crosstab(train['GroupCabin'], train['Survived'])\n",
    "GroupCabin_Survived"
   ],
   "metadata": {
    "collapsed": false,
    "ExecuteTime": {
     "end_time": "2023-11-01T03:18:34.161573800Z",
     "start_time": "2023-11-01T03:18:34.098778200Z"
    }
   },
   "id": "6a0f511e505604f0"
  },
  {
   "cell_type": "code",
   "execution_count": 61,
   "outputs": [
    {
     "data": {
      "text/plain": "Survived    0    1\nGroupAge          \n(0, 9]     26   40\n(9, 18]    45   32\n(18, 27]  141   93\n(27, 36]  213  105\n(36, 45]   58   34\n(45, 54]   36   25\n(54, 63]   17   12\n(63, 72]   11    0\n(72, 81]    1    1",
      "text/html": "<div>\n<style scoped>\n    .dataframe tbody tr th:only-of-type {\n        vertical-align: middle;\n    }\n\n    .dataframe tbody tr th {\n        vertical-align: top;\n    }\n\n    .dataframe thead th {\n        text-align: right;\n    }\n</style>\n<table border=\"1\" class=\"dataframe\">\n  <thead>\n    <tr style=\"text-align: right;\">\n      <th>Survived</th>\n      <th>0</th>\n      <th>1</th>\n    </tr>\n    <tr>\n      <th>GroupAge</th>\n      <th></th>\n      <th></th>\n    </tr>\n  </thead>\n  <tbody>\n    <tr>\n      <th>(0, 9]</th>\n      <td>26</td>\n      <td>40</td>\n    </tr>\n    <tr>\n      <th>(9, 18]</th>\n      <td>45</td>\n      <td>32</td>\n    </tr>\n    <tr>\n      <th>(18, 27]</th>\n      <td>141</td>\n      <td>93</td>\n    </tr>\n    <tr>\n      <th>(27, 36]</th>\n      <td>213</td>\n      <td>105</td>\n    </tr>\n    <tr>\n      <th>(36, 45]</th>\n      <td>58</td>\n      <td>34</td>\n    </tr>\n    <tr>\n      <th>(45, 54]</th>\n      <td>36</td>\n      <td>25</td>\n    </tr>\n    <tr>\n      <th>(54, 63]</th>\n      <td>17</td>\n      <td>12</td>\n    </tr>\n    <tr>\n      <th>(63, 72]</th>\n      <td>11</td>\n      <td>0</td>\n    </tr>\n    <tr>\n      <th>(72, 81]</th>\n      <td>1</td>\n      <td>1</td>\n    </tr>\n  </tbody>\n</table>\n</div>"
     },
     "execution_count": 61,
     "metadata": {},
     "output_type": "execute_result"
    }
   ],
   "source": [
    "bins = [0, 9, 18, 27, 36, 45, 54, 63, 72, 81, 90]\n",
    "train['GroupAge'] = pd.cut(train.Age, bins)\n",
    "GroupAge_Survived = pd.crosstab(train['GroupAge'], train['Survived'])\n",
    "GroupAge_Survived"
   ],
   "metadata": {
    "collapsed": false,
    "ExecuteTime": {
     "end_time": "2023-11-01T03:18:34.161573800Z",
     "start_time": "2023-11-01T03:18:34.106728700Z"
    }
   },
   "id": "23922d6f4c6e072"
  },
  {
   "cell_type": "code",
   "execution_count": 62,
   "outputs": [
    {
     "data": {
      "text/plain": "array([1, 0, 3, 2, 5, 4, 8, 6], dtype=int64)"
     },
     "execution_count": 62,
     "metadata": {},
     "output_type": "execute_result"
    }
   ],
   "source": [
    "train['Appellation'] = train.Appellation.map({'Mr': 0, 'Mrs': 1, 'Miss': 2, 'Master': 3, 'Rare': 4})\n",
    "train['Sex'] = train['Sex'].map({'female': 0, 'male': 1})\n",
    "train.loc[train['Age'] < 9, 'Age'] = 0\n",
    "train.loc[(train['Age'] >= 9) & (train['Age'] < 18), 'Age'] = 1\n",
    "train.loc[(train['Age'] >= 18) & (train['Age'] < 27), 'Age'] = 2\n",
    "train.loc[(train['Age'] >= 27) & (train['Age'] < 36), 'Age'] = 3\n",
    "train.loc[(train['Age'] >= 36) & (train['Age'] < 45), 'Age'] = 4\n",
    "train.loc[(train['Age'] >= 45) & (train['Age'] < 54), 'Age'] = 5\n",
    "train.loc[(train['Age'] >= 54) & (train['Age'] < 63), 'Age'] = 6\n",
    "train.loc[(train['Age'] >= 63) & (train['Age'] < 72), 'Age'] = 7\n",
    "train.loc[(train['Age'] >= 72) & (train['Age'] < 81), 'Age'] = 8\n",
    "train.loc[(train['Age'] >= 81) & (train['Age'] < 90), 'Age'] = 9\n",
    "train['FamilySize'] = train.loc[:,['SibSp','Parch']].max(axis=1)\n",
    "train['FamilySize'].unique()"
   ],
   "metadata": {
    "collapsed": false,
    "ExecuteTime": {
     "end_time": "2023-11-01T03:18:34.191024600Z",
     "start_time": "2023-11-01T03:18:34.122615100Z"
    }
   },
   "id": "6df9f7568cd5bec6"
  },
  {
   "cell_type": "code",
   "execution_count": 63,
   "outputs": [
    {
     "data": {
      "text/plain": "'Brewe, Dr. Arthur Jackson'"
     },
     "execution_count": 63,
     "metadata": {},
     "output_type": "execute_result"
    }
   ],
   "source": [
    "train['Name'][766]"
   ],
   "metadata": {
    "collapsed": false,
    "ExecuteTime": {
     "end_time": "2023-11-01T03:18:34.191024600Z",
     "start_time": "2023-11-01T03:18:34.130845100Z"
    }
   },
   "id": "b1430410e896df18"
  },
  {
   "cell_type": "code",
   "execution_count": 64,
   "outputs": [],
   "source": [
    "train.loc[train['Fare'] < 60, 'Fare'] = 0\n",
    "train.loc[(train['Fare'] >= 60) & (train['Fare'] < 120), 'Fare'] = 1\n",
    "train.loc[(train['Fare'] >= 120) & (train['Fare'] < 180), 'Fare'] = 2\n",
    "train.loc[(train['Fare'] >= 180) & (train['Fare'] < 240), 'Fare'] = 3\n",
    "train.loc[(train['Fare'] >= 240) & (train['Fare'] < 300), 'Fare'] = 4\n",
    "train.loc[(train['Fare'] >= 300) & (train['Fare'] < 360), 'Fare'] = 5\n",
    "train.loc[(train['Fare'] >= 360) & (train['Fare'] < 420), 'Fare'] = 6\n",
    "train.loc[(train['Fare'] >= 420) & (train['Fare'] < 480), 'Fare'] = 7\n",
    "train.loc[(train['Fare'] >= 480) & (train['Fare'] < 540), 'Fare'] = 8\n",
    "train.loc[(train['Fare'] >= 540) & (train['Fare'] < 600), 'Fare'] = 9\n",
    "train['Embarked'] = train.Embarked.map({'S': 0, 'C': 1, 'Q': 2})\n",
    "train.drop(['PassengerId', 'Name', 'GroupAge', 'SibSp', 'Parch', 'Ticket', 'GroupFare', 'Cabin', 'Appellation_'], axis = 1, inplace =True)"
   ],
   "metadata": {
    "collapsed": false,
    "ExecuteTime": {
     "end_time": "2023-11-01T03:18:34.194226700Z",
     "start_time": "2023-11-01T03:18:34.133465700Z"
    }
   },
   "id": "cef4da7cc28d5065"
  },
  {
   "cell_type": "code",
   "execution_count": 65,
   "outputs": [
    {
     "data": {
      "text/plain": "nan"
     },
     "execution_count": 65,
     "metadata": {},
     "output_type": "execute_result"
    }
   ],
   "source": [
    "train['Age'][766]"
   ],
   "metadata": {
    "collapsed": false,
    "ExecuteTime": {
     "end_time": "2023-11-01T03:18:34.194226700Z",
     "start_time": "2023-11-01T03:18:34.141863100Z"
    }
   },
   "id": "f8d20fd77f95843b"
  },
  {
   "cell_type": "code",
   "execution_count": 66,
   "outputs": [
    {
     "data": {
      "text/plain": "array(['Mr', 'Mrs', 'Miss', 'Master', 'Ms', 'Col', 'Rev', 'Dr', 'Dona'],\n      dtype=object)"
     },
     "execution_count": 66,
     "metadata": {},
     "output_type": "execute_result"
    }
   ],
   "source": [
    "test = df_test.copy()\n",
    "test['Appellation'] = test.Name.apply(lambda x: re.search('\\w+\\.', x).group()).str.replace('.', '')\n",
    "test['Appellation_'] = test['Appellation']\n",
    "test.Appellation.unique()"
   ],
   "metadata": {
    "collapsed": false,
    "ExecuteTime": {
     "end_time": "2023-11-01T03:18:34.248897500Z",
     "start_time": "2023-11-01T03:18:34.147479500Z"
    }
   },
   "id": "6b8efdf306608824"
  },
  {
   "cell_type": "code",
   "execution_count": 67,
   "outputs": [
    {
     "data": {
      "text/plain": "array(['Mr', 'Mrs', 'Miss', 'Master', 'Rare'], dtype=object)"
     },
     "execution_count": 67,
     "metadata": {},
     "output_type": "execute_result"
    }
   ],
   "source": [
    "test['Appellation'] = test['Appellation'].replace(['Col','Dr','Rev'], 'Rare')\n",
    "test['Appellation'] = test['Appellation'].replace('Ms', 'Miss')\n",
    "test['Appellation'] = test['Appellation'].replace('Dona', 'Master')\n",
    "test.Appellation.unique()"
   ],
   "metadata": {
    "collapsed": false,
    "ExecuteTime": {
     "end_time": "2023-11-01T03:18:34.248897500Z",
     "start_time": "2023-11-01T03:18:34.151212600Z"
    }
   },
   "id": "597c2438f718215b"
  },
  {
   "cell_type": "code",
   "execution_count": 68,
   "outputs": [],
   "source": [
    "Ticket_Count = test.groupby('Ticket', as_index = False)['PassengerId'].count()\n",
    "Ticket_Count_0 = Ticket_Count[Ticket_Count.PassengerId == 1]['Ticket']\n",
    "test['GroupTicket'] = np.where(test.Ticket.isin(Ticket_Count_0), 0, 1)"
   ],
   "metadata": {
    "collapsed": false,
    "ExecuteTime": {
     "end_time": "2023-11-01T03:18:34.273027900Z",
     "start_time": "2023-11-01T03:18:34.156258200Z"
    }
   },
   "id": "d8bfe2a038e6e0e7"
  },
  {
   "cell_type": "code",
   "execution_count": 69,
   "outputs": [],
   "source": [
    "bins = [0, 60, 120, 180, 240, 300, 360, 420, 480, 540, 600]\n",
    "test['GroupFare'] = pd.cut(test.Fare, bins, right = False)"
   ],
   "metadata": {
    "collapsed": false,
    "ExecuteTime": {
     "end_time": "2023-11-01T03:18:34.273027900Z",
     "start_time": "2023-11-01T03:18:34.164103700Z"
    }
   },
   "id": "9f3f2f234187d29b"
  },
  {
   "cell_type": "code",
   "execution_count": 70,
   "outputs": [],
   "source": [
    "test['Embarked'] = test['Embarked'].fillna(test['Embarked'].mode()[0])\n",
    "test['Cabin'] = test['Cabin'].fillna('NO')\n",
    "Age_Appellation_median = test.groupby('Appellation_')['Age'].median()\n",
    "test.set_index('Appellation', inplace = True)\n",
    "test.Age.fillna(Age_Appellation_median, inplace = True)\n",
    "test.reset_index(inplace = True)\n",
    "test['GroupCabin'] = np.where(test.Cabin == 'NO', 0, 1)\n",
    "bins = [0, 9, 18, 27, 36, 45, 54, 63, 72, 81, 90]\n",
    "test['GroupAge'] = pd.cut(test.Age, bins)\n",
    "test['Appellation'] = test.Appellation.map({'Mr': 0, 'Mrs': 1, 'Miss': 2, 'Master': 3, 'Rare': 4})\n",
    "test['Sex'] = test['Sex'].map({'female': 0, 'male': 1})\n",
    "\n",
    "test.loc[test['Age'] < 9, 'Age'] = 0\n",
    "test.loc[(test['Age'] >= 9) & (test['Age'] < 18), 'Age'] = 1\n",
    "test.loc[(test['Age'] >= 18) & (test['Age'] < 27), 'Age'] = 2\n",
    "test.loc[(test['Age'] >= 27) & (test['Age'] < 36), 'Age'] = 3\n",
    "test.loc[(test['Age'] >= 36) & (test['Age'] < 45), 'Age'] = 4\n",
    "test.loc[(test['Age'] >= 45) & (test['Age'] < 54), 'Age'] = 5\n",
    "test.loc[(test['Age'] >= 54) & (test['Age'] < 63), 'Age'] = 6\n",
    "test.loc[(test['Age'] >= 63) & (test['Age'] < 72), 'Age'] = 7\n",
    "test.loc[(test['Age'] >= 72) & (test['Age'] < 81), 'Age'] = 8\n",
    "test.loc[(test['Age'] >= 81) & (test['Age'] < 90), 'Age'] = 9\n",
    "test['FamilySize'] = test.loc[:,['SibSp','Parch']].max(axis=1)\n",
    "\n",
    "test.loc[test['Fare'] < 60, 'Fare'] = 0\n",
    "test.loc[(test['Fare'] >= 60) & (test['Fare'] < 120), 'Fare'] = 1\n",
    "test.loc[(test['Fare'] >= 120) & (test['Fare'] < 180), 'Fare'] = 2\n",
    "test.loc[(test['Fare'] >= 180) & (test['Fare'] < 240), 'Fare'] = 3\n",
    "test.loc[(test['Fare'] >= 240) & (test['Fare'] < 300), 'Fare'] = 4\n",
    "test.loc[(test['Fare'] >= 300) & (test['Fare'] < 360), 'Fare'] = 5\n",
    "test.loc[(test['Fare'] >= 360) & (test['Fare'] < 420), 'Fare'] = 6\n",
    "test.loc[(test['Fare'] >= 420) & (test['Fare'] < 480), 'Fare'] = 7\n",
    "test.loc[(test['Fare'] >= 480) & (test['Fare'] < 540), 'Fare'] = 8\n",
    "test.loc[(test['Fare'] >= 540) & (test['Fare'] < 600), 'Fare'] = 9\n",
    "test['Embarked'] = test.Embarked.map({'S': 0, 'C': 1, 'Q': 2})\n",
    "test.drop(['PassengerId', 'Name', 'GroupAge', 'SibSp', 'Parch', 'Ticket', 'GroupFare', 'Cabin', 'Appellation_'], axis = 1, inplace =True)"
   ],
   "metadata": {
    "collapsed": false,
    "ExecuteTime": {
     "end_time": "2023-11-01T03:18:34.273027900Z",
     "start_time": "2023-11-01T03:18:34.165792900Z"
    }
   },
   "id": "5e05b2df44ac3b59"
  },
  {
   "cell_type": "code",
   "execution_count": 71,
   "outputs": [
    {
     "data": {
      "text/plain": "(891, 10)"
     },
     "execution_count": 71,
     "metadata": {},
     "output_type": "execute_result"
    }
   ],
   "source": [
    "train.shape"
   ],
   "metadata": {
    "collapsed": false,
    "ExecuteTime": {
     "end_time": "2023-11-01T03:18:34.273027900Z",
     "start_time": "2023-11-01T03:18:34.184021100Z"
    }
   },
   "id": "a8644e0778251f83"
  },
  {
   "cell_type": "code",
   "execution_count": 72,
   "outputs": [
    {
     "data": {
      "text/plain": "(418, 9)"
     },
     "execution_count": 72,
     "metadata": {},
     "output_type": "execute_result"
    }
   ],
   "source": [
    "test.shape"
   ],
   "metadata": {
    "collapsed": false,
    "ExecuteTime": {
     "end_time": "2023-11-01T03:18:34.273027900Z",
     "start_time": "2023-11-01T03:18:34.188772100Z"
    }
   },
   "id": "fe5558e018564a2d"
  },
  {
   "cell_type": "code",
   "execution_count": 73,
   "outputs": [],
   "source": [
    "trainlabel = train['Survived'] \n",
    "train = train.drop('Survived', axis=1)"
   ],
   "metadata": {
    "collapsed": false,
    "ExecuteTime": {
     "end_time": "2023-11-01T03:18:34.273027900Z",
     "start_time": "2023-11-01T03:18:34.191024600Z"
    }
   },
   "id": "f2635a7831d430b3"
  },
  {
   "cell_type": "code",
   "execution_count": 74,
   "outputs": [],
   "source": [
    "train['Age'][766] = 35\n",
    "test['Fare'][152] = 13.8"
   ],
   "metadata": {
    "collapsed": false,
    "ExecuteTime": {
     "end_time": "2023-11-01T03:18:34.273027900Z",
     "start_time": "2023-11-01T03:18:34.197092800Z"
    }
   },
   "id": "c961dfd92ec7bcb7"
  },
  {
   "cell_type": "code",
   "execution_count": 75,
   "outputs": [
    {
     "data": {
      "text/plain": "<Figure size 640x480 with 1 Axes>",
      "image/png": "[encoded data removed]"
     },
     "metadata": {},
     "output_type": "display_data"
    }
   ],
   "source": [
    "from sklearn.model_selection import learning_curve\n",
    "from sklearn.model_selection import GridSearchCV\n",
    "\n",
    "def plot_learning_curve(estimator, title, X, y, cv=10,\n",
    "                        train_sizes=np.linspace(.1, 1.0, 5)):\n",
    "    plt.figure()\n",
    "    plt.title(title) # 设置图的 title\n",
    "    plt.xlabel('Training examples') # 横坐标\n",
    "    plt.ylabel('Score') # 纵坐标\n",
    "    train_sizes, train_scores, test_scores = learning_curve(estimator, X, y, cv=cv,\n",
    "                                                            train_sizes=train_sizes) \n",
    "    train_scores_mean = np.mean(train_scores, axis=1) # 计算平均值\n",
    "    train_scores_std = np.std(train_scores, axis=1) # 计算标准差\n",
    "    test_scores_mean = np.mean(test_scores, axis=1)\n",
    "    test_scores_std = np.std(test_scores, axis=1)\n",
    "    plt.grid() # 设置背景的网格\n",
    "\n",
    "    plt.fill_between(train_sizes, train_scores_mean - train_scores_std,\n",
    "                     train_scores_mean + train_scores_std,\n",
    "                     alpha=0.1, color='g') # 设置颜色\n",
    "    plt.fill_between(train_sizes, test_scores_mean - test_scores_std,\n",
    "                     test_scores_mean + test_scores_std,\n",
    "                     alpha=0.1, color='r')\n",
    "    plt.plot(train_sizes, train_scores_mean, 'o-', color='g',\n",
    "             label='traning score') # 绘制训练精度曲线\n",
    "    plt.plot(train_sizes, test_scores_mean, 'o-', color='r',\n",
    "             label='testing score') # 绘制测试精度曲线\n",
    "    plt.legend(loc='best')\n",
    "    return plt\n",
    "\n",
    "X = train\n",
    "y = trainlabel\n",
    "clf = RandomForestClassifier()\n",
    "para_grid = {'max_depth': [10], 'n_estimators': [80], 'max_features': [1, 5, 10], 'criterion': ['gini', 'entropy'],\n",
    "             'min_samples_split': [2, 5, 10], 'min_samples_leaf': [1, 5, 10]}\n",
    "gs = GridSearchCV(clf, param_grid=para_grid, cv=3, scoring='accuracy')\n",
    "gs.fit(X, y)\n",
    "gs_best = gs.best_estimator_ \n",
    "gs.best_score_ \n",
    "\n",
    "g = plot_learning_curve(gs_best, 'RFC', X, y)\n"
   ],
   "metadata": {
    "collapsed": false,
    "ExecuteTime": {
     "end_time": "2023-11-01T03:18:47.903073300Z",
     "start_time": "2023-11-01T03:18:34.197597Z"
    }
   },
   "id": "a366d52f85e80f8d"
  },
  {
   "cell_type": "code",
   "execution_count": 77,
   "outputs": [
    {
     "data": {
      "text/plain": "0.8294051627384961"
     },
     "execution_count": 77,
     "metadata": {},
     "output_type": "execute_result"
    }
   ],
   "source": [
    "gs.best_score_"
   ],
   "metadata": {
    "collapsed": false,
    "ExecuteTime": {
     "end_time": "2023-11-01T03:20:37.817828100Z",
     "start_time": "2023-11-01T03:20:37.785209400Z"
    }
   },
   "id": "f973577818bb0094"
  },
  {
   "cell_type": "code",
   "execution_count": 78,
   "outputs": [
    {
     "data": {
      "text/plain": "array([0, 0, 0, 0, 0, 0, 1, 0, 1, 0, 0, 0, 1, 0, 1, 1, 0, 0, 0, 1, 0, 0,\n       1, 0, 1, 0, 1, 0, 0, 0, 0, 0, 0, 0, 0, 0, 0, 0, 0, 0, 0, 0, 0, 1,\n       1, 0, 0, 0, 1, 0, 0, 0, 1, 1, 0, 0, 0, 0, 0, 1, 0, 0, 0, 1, 1, 1,\n       1, 0, 0, 1, 1, 0, 0, 0, 1, 0, 0, 1, 0, 1, 1, 0, 0, 0, 0, 0, 1, 0,\n       1, 1, 0, 0, 1, 0, 0, 0, 1, 0, 0, 0, 1, 0, 0, 0, 1, 0, 0, 0, 0, 0,\n       0, 1, 1, 1, 1, 0, 0, 1, 0, 1, 1, 0, 1, 0, 0, 0, 0, 1, 0, 0, 0, 0,\n       0, 0, 0, 0, 0, 0, 0, 0, 0, 1, 0, 0, 0, 0, 0, 0, 0, 0, 1, 0, 0, 0,\n       0, 0, 1, 0, 0, 0, 1, 1, 1, 0, 0, 0, 0, 0, 1, 0, 0, 0, 0, 0, 0, 1,\n       1, 0, 1, 1, 0, 0, 1, 0, 1, 0, 1, 0, 0, 0, 0, 0, 0, 0, 1, 0, 1, 0,\n       0, 0, 1, 1, 0, 1, 0, 0, 1, 0, 1, 0, 0, 0, 0, 1, 0, 0, 1, 0, 1, 0,\n       1, 0, 1, 0, 1, 1, 0, 1, 0, 0, 0, 1, 0, 0, 0, 0, 0, 0, 1, 1, 1, 1,\n       0, 0, 1, 0, 1, 0, 1, 1, 1, 0, 0, 0, 0, 0, 0, 0, 1, 0, 0, 0, 1, 1,\n       0, 0, 0, 0, 0, 0, 0, 0, 1, 1, 0, 1, 0, 0, 0, 0, 0, 1, 1, 1, 1, 0,\n       0, 0, 0, 0, 0, 1, 0, 0, 0, 0, 1, 0, 0, 0, 0, 0, 0, 0, 1, 1, 0, 1,\n       0, 0, 0, 0, 0, 1, 1, 1, 0, 0, 0, 0, 0, 0, 0, 0, 1, 0, 1, 0, 0, 0,\n       1, 0, 0, 1, 0, 0, 0, 0, 0, 1, 0, 0, 0, 1, 1, 1, 0, 1, 0, 1, 1, 0,\n       0, 0, 1, 0, 1, 0, 0, 0, 0, 1, 1, 0, 1, 0, 0, 0, 1, 0, 0, 1, 0, 0,\n       1, 1, 0, 0, 0, 0, 0, 0, 0, 0, 0, 1, 0, 0, 0, 0, 0, 1, 0, 0, 0, 1,\n       0, 1, 0, 0, 1, 0, 1, 0, 0, 0, 0, 0, 1, 1, 1, 1, 0, 0, 1, 0, 0, 1],\n      dtype=int64)"
     },
     "execution_count": 78,
     "metadata": {},
     "output_type": "execute_result"
    }
   ],
   "source": [
    "servived = gs_best.predict(test)\n",
    "servived"
   ],
   "metadata": {
    "collapsed": false,
    "ExecuteTime": {
     "end_time": "2023-11-01T03:30:18.034114200Z",
     "start_time": "2023-11-01T03:30:18.001526600Z"
    }
   },
   "id": "d8bb5274670b4dfe"
  },
  {
   "cell_type": "code",
   "execution_count": 79,
   "outputs": [],
   "source": [
    "df = pd.DataFrame(servived)\n",
    "writer = pd.ExcelWriter('hhh.xlsx')  #关键2，创建名称为hhh的excel表格\n",
    "df.to_excel(writer)  #关键3，float_format 控制精度，将data_df写到hhh表格的第一页中。若多个文件，可以在page_2中写入\n",
    "writer.save() "
   ],
   "metadata": {
    "collapsed": false,
    "ExecuteTime": {
     "end_time": "2023-11-01T03:32:46.874321700Z",
     "start_time": "2023-11-01T03:32:46.705959800Z"
    }
   },
   "id": "1107146fdaf3bf8e"
  },
  {
   "cell_type": "code",
   "execution_count": null,
   "outputs": [],
   "source": [],
   "metadata": {
    "collapsed": false
   },
   "id": "b644e9408c7f11fd"
  }
 ],
 "metadata": {
  "kernelspec": {
   "display_name": "Python 3",
   "language": "python",
   "name": "python3"
  },
  "language_info": {
   "codemirror_mode": {
    "name": "ipython",
    "version": 2
   },
   "file_extension": ".py",
   "mimetype": "text/x-python",
   "name": "python",
   "nbconvert_exporter": "python",
   "pygments_lexer": "ipython2",
   "version": "2.7.6"
  }
 },
 "nbformat": 4,
 "nbformat_minor": 5
}
